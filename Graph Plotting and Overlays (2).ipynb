{
 "cells": [
  {
   "cell_type": "markdown",
   "metadata": {},
   "source": [
    "# PLOTTING A GRAPH"
   ]
  },
  {
   "cell_type": "code",
   "execution_count": 20,
   "metadata": {},
   "outputs": [
    {
     "name": "stdout",
     "output_type": "stream",
     "text": [
      "[[ 10 125]\n",
      " [100  26]\n",
      " [ 25  66]\n",
      " [ 67   1]\n",
      " [ 74  10]]\n",
      "[ 10 100  25  67  74]\n"
     ]
    },
    {
     "data": {
      "image/png": "[encoded data removed]",
      "text/plain": [
       "<Figure size 432x288 with 1 Axes>"
      ]
     },
     "metadata": {},
     "output_type": "display_data"
    },
    {
     "data": {
      "image/png": "[encoded data removed]",
      "text/plain": [
       "<Figure size 432x288 with 1 Axes>"
      ]
     },
     "metadata": {},
     "output_type": "display_data"
    }
   ],
   "source": [
    "import numpy as np\n",
    "#from scipy.spatial.distance import euclidean\n",
    "from sklearn.metrics.pairwise import euclidean_distances\n",
    "import matplotlib.pyplot as plt\n",
    "xs = [10,100,25,67,74]\n",
    "ys = [125,26,66,1,10]\n",
    "\n",
    "\n",
    "xys = [[10,125],[100,26],[25,66],[67,1],[74,10]]\n",
    "mean = np.mean(xys,0)\n",
    "xys = np.array(xys)\n",
    "\n",
    "print(xys)\n",
    "print(xys[:,0])  #[0,:] corresponds to rows while [:,0] corresponds to columns\n",
    "#print(xys[0])\n",
    "plt.scatter(xys[:,0], xys[:,1])\n",
    "plt.show()\n",
    "#for a connected graph plot instead of scatter\n",
    "#for you to use features like 'ro' use plot() instead of scatter()\n",
    "#remove 'r^',the 3rd parameter, to have the connected graph\n",
    "plt.plot(xs,ys,'r^') \n",
    "plt.show()"
   ]
  },
  {
   "cell_type": "markdown",
   "metadata": {},
   "source": [
    "# CALCULATING THE MEAN OF ALL POINTS"
   ]
  },
  {
   "cell_type": "code",
   "execution_count": 44,
   "metadata": {},
   "outputs": [
    {
     "name": "stdout",
     "output_type": "stream",
     "text": [
      "55.2 45.6\n"
     ]
    }
   ],
   "source": [
    "x_mean = np.mean(xys[:,0])\n",
    "y_mean = np.mean(xys[:,1])\n",
    "print(x_mean,y_mean)"
   ]
  },
  {
   "cell_type": "markdown",
   "metadata": {},
   "source": [
    "## ALTERNATIVELY"
   ]
  },
  {
   "cell_type": "code",
   "execution_count": 51,
   "metadata": {},
   "outputs": [
    {
     "data": {
      "text/plain": [
       "array([55.2, 45.6])"
      ]
     },
     "execution_count": 51,
     "metadata": {},
     "output_type": "execute_result"
    }
   ],
   "source": [
    "np.mean(xys,0) #This gives the mean column-wise\n",
    "#np.mean(xys,1) #This gives the mean row-wise"
   ]
  },
  {
   "cell_type": "code",
   "execution_count": 22,
   "metadata": {},
   "outputs": [
    {
     "data": {
      "text/plain": [
       "<matplotlib.collections.PathCollection at 0x7f211a473dd8>"
      ]
     },
     "execution_count": 22,
     "metadata": {},
     "output_type": "execute_result"
    },
    {
     "data": {
      "image/png": "[encoded data removed]",
      "text/plain": [
       "<Figure size 432x288 with 1 Axes>"
      ]
     },
     "metadata": {},
     "output_type": "display_data"
    }
   ],
   "source": [
    "mean = np.mean(xys,0)\n",
    "plt.scatter(xys[:,0],xys[:,1])\n",
    "plt.scatter(mean[0],mean[1])"
   ]
  },
  {
   "cell_type": "markdown",
   "metadata": {},
   "source": [
    "# ADDING GRAPHICAL OVERLAYS"
   ]
  },
  {
   "cell_type": "code",
   "execution_count": 128,
   "metadata": {
    "scrolled": false
   },
   "outputs": [
    {
     "data": {
      "text/plain": [
       "(66.05936723887082, 91.04372575856065)"
      ]
     },
     "execution_count": 128,
     "metadata": {},
     "output_type": "execute_result"
    },
    {
     "data": {
      "image/png": "[encoded data removed]",
      "text/plain": [
       "<Figure size 432x432 with 1 Axes>"
      ]
     },
     "metadata": {},
     "output_type": "display_data"
    }
   ],
   "source": [
    "std_dev = np.std(xys, 0)\n",
    "\n",
    "#Ellipse(xy coordinates of ellipse centre,Total length (diameter) of horizontal axis(width),Total length (diameter) of vertical axis(height),angle=0, **kwargs)\n",
    "ellipse = patches.Ellipse([mean[0],mean[1]],std_dev[0]*2,std_dev[1]*2,alpha = .25)  #we set alpha so that the overlay is transparent\n",
    "\n",
    "#sublots()Allows for plotting of multiple graphs on the same graph\n",
    "#fig_name = plt.figure(figsize=(width,height))\n",
    "\n",
    "fig,graph = plt.subplots(figsize=(6,6)) \n",
    "\n",
    "graph.scatter(xys[:,0],xys[:,1])\n",
    "graph.scatter(mean[0],mean[1])\n",
    "graph.add_patch(ellipse)\n",
    "std_dev[0]*2,std_dev[1]*2 #Just to show that it goes both ways"
   ]
  },
  {
   "cell_type": "markdown",
   "metadata": {},
   "source": [
    "# Finding Euclidean Distance\n",
    "### (We use of list comprehension)"
   ]
  },
  {
   "cell_type": "code",
   "execution_count": 13,
   "metadata": {},
   "outputs": [
    {
     "name": "stdout",
     "output_type": "stream",
     "text": [
      "[91.36410673782129, 48.89989775040434, 36.444478319767455, 46.13458572481171, 40.25916044827562]\n",
      "[[91.36410674]\n",
      " [48.89989775]\n",
      " [36.44447832]\n",
      " [46.13458572]\n",
      " [40.25916045]]\n"
     ]
    }
   ],
   "source": [
    "dists = [np.linalg.norm(xy-mean) for xy in xys]\n",
    "print(dists)\n",
    "#Using sklean\n",
    "''''from sklearn.metrics.pairwise import euclidean_distances\n",
    "res = euclidean_distances(xys,[[55.2, 45.6]])\n",
    "print(res)''''"
   ]
  },
  {
   "cell_type": "markdown",
   "metadata": {},
   "source": [
    "# Normalizing Data"
   ]
  },
  {
   "cell_type": "code",
   "execution_count": 131,
   "metadata": {},
   "outputs": [
    {
     "name": "stdout",
     "output_type": "stream",
     "text": [
      "[[ 10 125]\n",
      " [100  26]\n",
      " [ 25  66]\n",
      " [ 67   1]\n",
      " [ 74  10]]\n",
      "[ 90 124]\n",
      "[[0.         1.        ]\n",
      " [1.         0.2016129 ]\n",
      " [0.16666667 0.52419355]\n",
      " [0.63333333 0.        ]\n",
      " [0.71111111 0.07258065]]\n"
     ]
    }
   ],
   "source": [
    "x_max = np.max(xys,0)\n",
    "x_min = np.min(xys,0)\n",
    "normed_data = (xys-x_min)/(x_max-x_min)\n",
    "print(xys)\n",
    "print(x_max-x_min)\n",
    "print(normed_data)"
   ]
  },
  {
   "cell_type": "markdown",
   "metadata": {},
   "source": [
    "# Plotting a Normalised Graph (0-1 range)\n",
    "## (Using the previous graph)"
   ]
  },
  {
   "cell_type": "code",
   "execution_count": null,
   "metadata": {},
   "outputs": [],
   "source": [
    "mean = np.mean(normed_data,0) #xys is now changed to normed_data, our newly updated data set\n",
    "std_dev = np.std(normed_data, 0) #xys is now changed to normed_data, our newly updated data set\n",
    "\n",
    "ellipse = patches.Ellipse([mean[0],mean[1]],std_dev[0]*2,std_dev[1]*2,alpha = .25)\n",
    "\n",
    "fig,graph = plt.subplots(figsize=(6,6)) \n",
    "\n",
    "graph.scatter(normed_data[:,0],normed_data[:,1])  #xys is now changed to normed_data, our newly updated data set\n",
    "graph.scatter(mean[0],mean[1])\n",
    "graph.add_patch(ellipse)\n",
    "\n",
    "#Notice the axis now fall between 0 and 1"
   ]
  },
  {
   "cell_type": "markdown",
   "metadata": {},
   "source": [
    "# Plotting Histograms"
   ]
  },
  {
   "cell_type": "code",
   "execution_count": 16,
   "metadata": {},
   "outputs": [
    {
     "data": {
      "image/png": "[encoded data removed]",
      "text/plain": [
       "<Figure size 432x288 with 1 Axes>"
      ]
     },
     "metadata": {},
     "output_type": "display_data"
    }
   ],
   "source": [
    "import numpy as np\n",
    "import matplotlib.pyplot as plt\n",
    "\n",
    "#random.normal(loc=mean,scale=std,size)\n",
    "data = np.random.normal(5.0,1.0,100000)\n",
    "\n",
    "#Most values are between 4 and 6, as that is the std\n",
    "\n",
    "#hist(data,no.of bars)\n",
    "plt.hist(data,100)\n",
    "plt.show()"
   ]
  },
  {
   "cell_type": "markdown",
   "metadata": {},
   "source": [
    "# Plotting Random Data on Scatterplots"
   ]
  },
  {
   "cell_type": "code",
   "execution_count": 24,
   "metadata": {},
   "outputs": [
    {
     "data": {
      "image/png": "[encoded data removed]",
      "text/plain": [
       "<Figure size 432x288 with 1 Axes>"
      ]
     },
     "metadata": {},
     "output_type": "display_data"
    }
   ],
   "source": [
    "import numpy as np\n",
    "import matplotlib.pyplot as plt\n",
    "\n",
    "x = np.random.normal(5,1,1000)\n",
    "y = np.random.normal(10,2,1000)\n",
    "#We see that the spread is wider on y than x i.e 2 vs 1\n",
    "plt.scatter(x,y)\n",
    "plt.show()"
   ]
  }
 ],
 "metadata": {
  "kernelspec": {
   "display_name": "Python 3",
   "language": "python",
   "name": "python3"
  },
  "language_info": {
   "codemirror_mode": {
    "name": "ipython",
    "version": 3
   },
   "file_extension": ".py",
   "mimetype": "text/x-python",
   "name": "python",
   "nbconvert_exporter": "python",
   "pygments_lexer": "ipython3",
   "version": "3.6.3"
  }
 },
 "nbformat": 4,
 "nbformat_minor": 2
}
